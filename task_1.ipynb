{
 "cells": [
  {
   "cell_type": "code",
   "execution_count": 1,
   "id": "eab14d9f",
   "metadata": {},
   "outputs": [],
   "source": [
    "import pandas as pd"
   ]
  },
  {
   "cell_type": "code",
   "execution_count": 2,
   "id": "5d729498",
   "metadata": {},
   "outputs": [
    {
     "data": {
      "text/html": [
       "<div>\n",
       "<style scoped>\n",
       "    .dataframe tbody tr th:only-of-type {\n",
       "        vertical-align: middle;\n",
       "    }\n",
       "\n",
       "    .dataframe tbody tr th {\n",
       "        vertical-align: top;\n",
       "    }\n",
       "\n",
       "    .dataframe thead th {\n",
       "        text-align: right;\n",
       "    }\n",
       "</style>\n",
       "<table border=\"1\" class=\"dataframe\">\n",
       "  <thead>\n",
       "    <tr style=\"text-align: right;\">\n",
       "      <th></th>\n",
       "      <th>Year</th>\n",
       "      <th>Location</th>\n",
       "      <th>Avg Min Temp *F</th>\n",
       "      <th>Yr Rain inches</th>\n",
       "      <th>Heat Wave</th>\n",
       "      <th>Dry Spell</th>\n",
       "      <th>Cold Wave</th>\n",
       "      <th>Wet Spell</th>\n",
       "    </tr>\n",
       "  </thead>\n",
       "  <tbody>\n",
       "    <tr>\n",
       "      <th>0</th>\n",
       "      <td>1980</td>\n",
       "      <td>Lake Diane</td>\n",
       "      <td>68.36</td>\n",
       "      <td>28.8079</td>\n",
       "      <td>N</td>\n",
       "      <td>N</td>\n",
       "      <td>Y</td>\n",
       "      <td>N</td>\n",
       "    </tr>\n",
       "    <tr>\n",
       "      <th>1</th>\n",
       "      <td>1980</td>\n",
       "      <td>Hillport</td>\n",
       "      <td>73.58</td>\n",
       "      <td>24.3217</td>\n",
       "      <td>N</td>\n",
       "      <td>N</td>\n",
       "      <td>Y</td>\n",
       "      <td>N</td>\n",
       "    </tr>\n",
       "    <tr>\n",
       "      <th>2</th>\n",
       "      <td>1980</td>\n",
       "      <td>Spencerborough</td>\n",
       "      <td>69.98</td>\n",
       "      <td>46.0992</td>\n",
       "      <td>N</td>\n",
       "      <td>N</td>\n",
       "      <td>N</td>\n",
       "      <td>N</td>\n",
       "    </tr>\n",
       "    <tr>\n",
       "      <th>3</th>\n",
       "      <td>1981</td>\n",
       "      <td>Lake Diane</td>\n",
       "      <td>67.28</td>\n",
       "      <td>31.2477</td>\n",
       "      <td>No</td>\n",
       "      <td>N</td>\n",
       "      <td>Y</td>\n",
       "      <td>N</td>\n",
       "    </tr>\n",
       "    <tr>\n",
       "      <th>4</th>\n",
       "      <td>1981</td>\n",
       "      <td>Hillport</td>\n",
       "      <td>73.58</td>\n",
       "      <td>24.2776</td>\n",
       "      <td>N</td>\n",
       "      <td>N</td>\n",
       "      <td>Y</td>\n",
       "      <td>N</td>\n",
       "    </tr>\n",
       "  </tbody>\n",
       "</table>\n",
       "</div>"
      ],
      "text/plain": [
       "   Year        Location  Avg Min Temp *F  Yr Rain inches Heat Wave Dry Spell  \\\n",
       "0  1980      Lake Diane            68.36         28.8079         N         N   \n",
       "1  1980        Hillport            73.58         24.3217         N         N   \n",
       "2  1980  Spencerborough            69.98         46.0992         N         N   \n",
       "3  1981      Lake Diane            67.28         31.2477        No         N   \n",
       "4  1981        Hillport            73.58         24.2776         N         N   \n",
       "\n",
       "  Cold Wave Wet Spell  \n",
       "0         Y         N  \n",
       "1         Y         N  \n",
       "2         N         N  \n",
       "3         Y         N  \n",
       "4         Y         N  "
      ]
     },
     "execution_count": 2,
     "metadata": {},
     "output_type": "execute_result"
    }
   ],
   "source": [
    "# read the data_1_env.csv file\n",
    "df1=pd.read_csv('data_1_env.csv')\n",
    "df1.head()"
   ]
  },
  {
   "cell_type": "code",
   "execution_count": 3,
   "id": "80a7393e",
   "metadata": {},
   "outputs": [
    {
     "data": {
      "text/html": [
       "<div>\n",
       "<style scoped>\n",
       "    .dataframe tbody tr th:only-of-type {\n",
       "        vertical-align: middle;\n",
       "    }\n",
       "\n",
       "    .dataframe tbody tr th {\n",
       "        vertical-align: top;\n",
       "    }\n",
       "\n",
       "    .dataframe thead th {\n",
       "        text-align: right;\n",
       "    }\n",
       "</style>\n",
       "<table border=\"1\" class=\"dataframe\">\n",
       "  <thead>\n",
       "    <tr style=\"text-align: right;\">\n",
       "      <th></th>\n",
       "      <th>Year</th>\n",
       "      <th>Avg Min Temp *F</th>\n",
       "      <th>Yr Rain inches</th>\n",
       "    </tr>\n",
       "  </thead>\n",
       "  <tbody>\n",
       "    <tr>\n",
       "      <th>count</th>\n",
       "      <td>45.000000</td>\n",
       "      <td>45.000000</td>\n",
       "      <td>45.000000</td>\n",
       "    </tr>\n",
       "    <tr>\n",
       "      <th>mean</th>\n",
       "      <td>1987.000000</td>\n",
       "      <td>71.060000</td>\n",
       "      <td>40.019731</td>\n",
       "    </tr>\n",
       "    <tr>\n",
       "      <th>std</th>\n",
       "      <td>4.369314</td>\n",
       "      <td>2.320407</td>\n",
       "      <td>11.572000</td>\n",
       "    </tr>\n",
       "    <tr>\n",
       "      <th>min</th>\n",
       "      <td>1980.000000</td>\n",
       "      <td>67.280000</td>\n",
       "      <td>23.404300</td>\n",
       "    </tr>\n",
       "    <tr>\n",
       "      <th>25%</th>\n",
       "      <td>1983.000000</td>\n",
       "      <td>69.080000</td>\n",
       "      <td>30.281500</td>\n",
       "    </tr>\n",
       "    <tr>\n",
       "      <th>50%</th>\n",
       "      <td>1987.000000</td>\n",
       "      <td>70.340000</td>\n",
       "      <td>38.627200</td>\n",
       "    </tr>\n",
       "    <tr>\n",
       "      <th>75%</th>\n",
       "      <td>1991.000000</td>\n",
       "      <td>73.760000</td>\n",
       "      <td>52.552000</td>\n",
       "    </tr>\n",
       "    <tr>\n",
       "      <th>max</th>\n",
       "      <td>1994.000000</td>\n",
       "      <td>74.840000</td>\n",
       "      <td>60.822900</td>\n",
       "    </tr>\n",
       "  </tbody>\n",
       "</table>\n",
       "</div>"
      ],
      "text/plain": [
       "              Year  Avg Min Temp *F  Yr Rain inches\n",
       "count    45.000000        45.000000       45.000000\n",
       "mean   1987.000000        71.060000       40.019731\n",
       "std       4.369314         2.320407       11.572000\n",
       "min    1980.000000        67.280000       23.404300\n",
       "25%    1983.000000        69.080000       30.281500\n",
       "50%    1987.000000        70.340000       38.627200\n",
       "75%    1991.000000        73.760000       52.552000\n",
       "max    1994.000000        74.840000       60.822900"
      ]
     },
     "execution_count": 3,
     "metadata": {},
     "output_type": "execute_result"
    }
   ],
   "source": [
    "df1.describe()"
   ]
  },
  {
   "cell_type": "code",
   "execution_count": 4,
   "id": "56578887",
   "metadata": {},
   "outputs": [
    {
     "data": {
      "text/html": [
       "<div>\n",
       "<style scoped>\n",
       "    .dataframe tbody tr th:only-of-type {\n",
       "        vertical-align: middle;\n",
       "    }\n",
       "\n",
       "    .dataframe tbody tr th {\n",
       "        vertical-align: top;\n",
       "    }\n",
       "\n",
       "    .dataframe thead th {\n",
       "        text-align: right;\n",
       "    }\n",
       "</style>\n",
       "<table border=\"1\" class=\"dataframe\">\n",
       "  <thead>\n",
       "    <tr style=\"text-align: right;\">\n",
       "      <th></th>\n",
       "      <th>Year</th>\n",
       "      <th>Location</th>\n",
       "      <th>Avg Min Temp *C</th>\n",
       "      <th>Yr Rain mm</th>\n",
       "      <th>Heat Wave</th>\n",
       "      <th>Dry Spell</th>\n",
       "      <th>Cold Wave</th>\n",
       "      <th>Wet Spell</th>\n",
       "    </tr>\n",
       "  </thead>\n",
       "  <tbody>\n",
       "    <tr>\n",
       "      <th>0</th>\n",
       "      <td>1995</td>\n",
       "      <td>Hillport</td>\n",
       "      <td>23.9</td>\n",
       "      <td>741.74</td>\n",
       "      <td>N</td>\n",
       "      <td>Y</td>\n",
       "      <td>N</td>\n",
       "      <td>N</td>\n",
       "    </tr>\n",
       "    <tr>\n",
       "      <th>1</th>\n",
       "      <td>1995</td>\n",
       "      <td>Spencerborough</td>\n",
       "      <td>21.8</td>\n",
       "      <td>1425.32</td>\n",
       "      <td>N</td>\n",
       "      <td>N</td>\n",
       "      <td>N</td>\n",
       "      <td>N</td>\n",
       "    </tr>\n",
       "    <tr>\n",
       "      <th>2</th>\n",
       "      <td>1995</td>\n",
       "      <td>Lake Diane</td>\n",
       "      <td>21.2</td>\n",
       "      <td>1199.91</td>\n",
       "      <td>N</td>\n",
       "      <td>N</td>\n",
       "      <td>N</td>\n",
       "      <td>Y</td>\n",
       "    </tr>\n",
       "    <tr>\n",
       "      <th>3</th>\n",
       "      <td>1996</td>\n",
       "      <td>Lake Diane</td>\n",
       "      <td>21.1</td>\n",
       "      <td>1182.85</td>\n",
       "      <td>N</td>\n",
       "      <td>N</td>\n",
       "      <td>N</td>\n",
       "      <td>Y</td>\n",
       "    </tr>\n",
       "    <tr>\n",
       "      <th>4</th>\n",
       "      <td>1996</td>\n",
       "      <td>Hillport</td>\n",
       "      <td>23.6</td>\n",
       "      <td>837.42</td>\n",
       "      <td>N</td>\n",
       "      <td>N</td>\n",
       "      <td>N</td>\n",
       "      <td>N</td>\n",
       "    </tr>\n",
       "  </tbody>\n",
       "</table>\n",
       "</div>"
      ],
      "text/plain": [
       "   Year        Location  Avg Min Temp *C  Yr Rain mm Heat Wave Dry Spell  \\\n",
       "0  1995        Hillport             23.9      741.74         N         Y   \n",
       "1  1995  Spencerborough             21.8     1425.32         N         N   \n",
       "2  1995      Lake Diane             21.2     1199.91         N         N   \n",
       "3  1996      Lake Diane             21.1     1182.85         N         N   \n",
       "4  1996        Hillport             23.6      837.42         N         N   \n",
       "\n",
       "  Cold Wave Wet Spell  \n",
       "0         N         N  \n",
       "1         N         N  \n",
       "2         N         Y  \n",
       "3         N         Y  \n",
       "4         N         N  "
      ]
     },
     "execution_count": 4,
     "metadata": {},
     "output_type": "execute_result"
    }
   ],
   "source": [
    "# read the data_2_env.csv file\n",
    "df2=pd.read_csv('data_2_env.csv')\n",
    "df2.head()"
   ]
  },
  {
   "cell_type": "code",
   "execution_count": 5,
   "id": "6c42af70",
   "metadata": {},
   "outputs": [
    {
     "data": {
      "text/html": [
       "<div>\n",
       "<style scoped>\n",
       "    .dataframe tbody tr th:only-of-type {\n",
       "        vertical-align: middle;\n",
       "    }\n",
       "\n",
       "    .dataframe tbody tr th {\n",
       "        vertical-align: top;\n",
       "    }\n",
       "\n",
       "    .dataframe thead th {\n",
       "        text-align: right;\n",
       "    }\n",
       "</style>\n",
       "<table border=\"1\" class=\"dataframe\">\n",
       "  <thead>\n",
       "    <tr style=\"text-align: right;\">\n",
       "      <th></th>\n",
       "      <th>Year</th>\n",
       "      <th>Avg Min Temp *C</th>\n",
       "      <th>Yr Rain mm</th>\n",
       "    </tr>\n",
       "  </thead>\n",
       "  <tbody>\n",
       "    <tr>\n",
       "      <th>count</th>\n",
       "      <td>75.000000</td>\n",
       "      <td>75.000000</td>\n",
       "      <td>75.000000</td>\n",
       "    </tr>\n",
       "    <tr>\n",
       "      <th>mean</th>\n",
       "      <td>2007.000000</td>\n",
       "      <td>22.788000</td>\n",
       "      <td>1371.774533</td>\n",
       "    </tr>\n",
       "    <tr>\n",
       "      <th>std</th>\n",
       "      <td>7.259663</td>\n",
       "      <td>1.227276</td>\n",
       "      <td>349.268568</td>\n",
       "    </tr>\n",
       "    <tr>\n",
       "      <th>min</th>\n",
       "      <td>1995.000000</td>\n",
       "      <td>20.900000</td>\n",
       "      <td>741.740000</td>\n",
       "    </tr>\n",
       "    <tr>\n",
       "      <th>25%</th>\n",
       "      <td>2001.000000</td>\n",
       "      <td>21.900000</td>\n",
       "      <td>1084.025000</td>\n",
       "    </tr>\n",
       "    <tr>\n",
       "      <th>50%</th>\n",
       "      <td>2007.000000</td>\n",
       "      <td>22.400000</td>\n",
       "      <td>1381.230000</td>\n",
       "    </tr>\n",
       "    <tr>\n",
       "      <th>75%</th>\n",
       "      <td>2013.000000</td>\n",
       "      <td>23.950000</td>\n",
       "      <td>1632.065000</td>\n",
       "    </tr>\n",
       "    <tr>\n",
       "      <th>max</th>\n",
       "      <td>2019.000000</td>\n",
       "      <td>25.300000</td>\n",
       "      <td>2155.300000</td>\n",
       "    </tr>\n",
       "  </tbody>\n",
       "</table>\n",
       "</div>"
      ],
      "text/plain": [
       "              Year  Avg Min Temp *C   Yr Rain mm\n",
       "count    75.000000        75.000000    75.000000\n",
       "mean   2007.000000        22.788000  1371.774533\n",
       "std       7.259663         1.227276   349.268568\n",
       "min    1995.000000        20.900000   741.740000\n",
       "25%    2001.000000        21.900000  1084.025000\n",
       "50%    2007.000000        22.400000  1381.230000\n",
       "75%    2013.000000        23.950000  1632.065000\n",
       "max    2019.000000        25.300000  2155.300000"
      ]
     },
     "execution_count": 5,
     "metadata": {},
     "output_type": "execute_result"
    }
   ],
   "source": [
    "df2.describe()"
   ]
  },
  {
   "cell_type": "markdown",
   "id": "065198ad",
   "metadata": {},
   "source": [
    "###### Need to convert Avg Min Temp *F and Yr Rain inches  in data-1-env.csv to Avg Min Temp *C and Yr Rain mm. save to data-1-copy-env.csv"
   ]
  },
  {
   "cell_type": "code",
   "execution_count": 6,
   "id": "b6c6cd6c",
   "metadata": {},
   "outputs": [
    {
     "data": {
      "text/html": [
       "<div>\n",
       "<style scoped>\n",
       "    .dataframe tbody tr th:only-of-type {\n",
       "        vertical-align: middle;\n",
       "    }\n",
       "\n",
       "    .dataframe tbody tr th {\n",
       "        vertical-align: top;\n",
       "    }\n",
       "\n",
       "    .dataframe thead th {\n",
       "        text-align: right;\n",
       "    }\n",
       "</style>\n",
       "<table border=\"1\" class=\"dataframe\">\n",
       "  <thead>\n",
       "    <tr style=\"text-align: right;\">\n",
       "      <th></th>\n",
       "      <th>Year</th>\n",
       "      <th>Location</th>\n",
       "      <th>Avg Min Temp *C</th>\n",
       "      <th>Yr Rain mm</th>\n",
       "      <th>Heat Wave</th>\n",
       "      <th>Dry Spell</th>\n",
       "      <th>Cold Wave</th>\n",
       "      <th>Wet Spell</th>\n",
       "    </tr>\n",
       "  </thead>\n",
       "  <tbody>\n",
       "    <tr>\n",
       "      <th>0</th>\n",
       "      <td>1980</td>\n",
       "      <td>Lake Diane</td>\n",
       "      <td>20.2</td>\n",
       "      <td>731.72066</td>\n",
       "      <td>N</td>\n",
       "      <td>N</td>\n",
       "      <td>Y</td>\n",
       "      <td>N</td>\n",
       "    </tr>\n",
       "    <tr>\n",
       "      <th>1</th>\n",
       "      <td>1980</td>\n",
       "      <td>Hillport</td>\n",
       "      <td>23.1</td>\n",
       "      <td>617.77118</td>\n",
       "      <td>N</td>\n",
       "      <td>N</td>\n",
       "      <td>Y</td>\n",
       "      <td>N</td>\n",
       "    </tr>\n",
       "    <tr>\n",
       "      <th>2</th>\n",
       "      <td>1980</td>\n",
       "      <td>Spencerborough</td>\n",
       "      <td>21.1</td>\n",
       "      <td>1170.91968</td>\n",
       "      <td>N</td>\n",
       "      <td>N</td>\n",
       "      <td>N</td>\n",
       "      <td>N</td>\n",
       "    </tr>\n",
       "    <tr>\n",
       "      <th>3</th>\n",
       "      <td>1981</td>\n",
       "      <td>Lake Diane</td>\n",
       "      <td>19.6</td>\n",
       "      <td>793.69158</td>\n",
       "      <td>No</td>\n",
       "      <td>N</td>\n",
       "      <td>Y</td>\n",
       "      <td>N</td>\n",
       "    </tr>\n",
       "    <tr>\n",
       "      <th>4</th>\n",
       "      <td>1981</td>\n",
       "      <td>Hillport</td>\n",
       "      <td>23.1</td>\n",
       "      <td>616.65104</td>\n",
       "      <td>N</td>\n",
       "      <td>N</td>\n",
       "      <td>Y</td>\n",
       "      <td>N</td>\n",
       "    </tr>\n",
       "  </tbody>\n",
       "</table>\n",
       "</div>"
      ],
      "text/plain": [
       "   Year        Location  Avg Min Temp *C  Yr Rain mm Heat Wave Dry Spell  \\\n",
       "0  1980      Lake Diane             20.2   731.72066         N         N   \n",
       "1  1980        Hillport             23.1   617.77118         N         N   \n",
       "2  1980  Spencerborough             21.1  1170.91968         N         N   \n",
       "3  1981      Lake Diane             19.6   793.69158        No         N   \n",
       "4  1981        Hillport             23.1   616.65104         N         N   \n",
       "\n",
       "  Cold Wave Wet Spell  \n",
       "0         Y         N  \n",
       "1         Y         N  \n",
       "2         N         N  \n",
       "3         Y         N  \n",
       "4         Y         N  "
      ]
     },
     "execution_count": 6,
     "metadata": {},
     "output_type": "execute_result"
    }
   ],
   "source": [
    "# read the csv file\n",
    "data = pd.read_csv('data_1_env.csv')\n",
    "\n",
    "# convert F to c and yr inches to yr mm\n",
    "col_name = 'Avg Min Temp *F'\n",
    "data[col_name] = (data[col_name]-32)*5/9\n",
    "\n",
    "col_name2 = 'Yr Rain inches'\n",
    "data[col_name2] = data[col_name2] * 25.4\n",
    "\n",
    "\n",
    "\n",
    "# rename the column\n",
    "data.rename(columns={'Avg Min Temp *F': 'Avg Min Temp *C'}, inplace=True)\n",
    "data.rename(columns={'Yr Rain inches': 'Yr Rain mm'}, inplace=True)\n",
    "\n",
    "# save the updated file\n",
    "data.to_csv('data-1-copy-env.csv', index=False)\n",
    "\n",
    "data.head()"
   ]
  },
  {
   "cell_type": "markdown",
   "id": "d0b63783",
   "metadata": {},
   "source": [
    "###### combine new file and data_2_env.csv"
   ]
  },
  {
   "cell_type": "code",
   "execution_count": 7,
   "id": "ca6aa0b6",
   "metadata": {},
   "outputs": [],
   "source": [
    "df1 = pd.read_csv('data-1-copy-env.csv')\n",
    "df2 = pd.read_csv('data_2_env.csv')\n",
    "\n",
    "combined_df = pd.concat([df1, df2], ignore_index=True)\n",
    "\n",
    "combined_df.to_csv('combine.csv', index=False)"
   ]
  },
  {
   "cell_type": "code",
   "execution_count": 8,
   "id": "e192e5d2",
   "metadata": {},
   "outputs": [
    {
     "data": {
      "text/html": [
       "<div>\n",
       "<style scoped>\n",
       "    .dataframe tbody tr th:only-of-type {\n",
       "        vertical-align: middle;\n",
       "    }\n",
       "\n",
       "    .dataframe tbody tr th {\n",
       "        vertical-align: top;\n",
       "    }\n",
       "\n",
       "    .dataframe thead th {\n",
       "        text-align: right;\n",
       "    }\n",
       "</style>\n",
       "<table border=\"1\" class=\"dataframe\">\n",
       "  <thead>\n",
       "    <tr style=\"text-align: right;\">\n",
       "      <th></th>\n",
       "      <th>Year</th>\n",
       "      <th>Location</th>\n",
       "      <th>Avg Min Temp *C</th>\n",
       "      <th>Yr Rain mm</th>\n",
       "      <th>Heat Wave</th>\n",
       "      <th>Dry Spell</th>\n",
       "      <th>Cold Wave</th>\n",
       "      <th>Wet Spell</th>\n",
       "    </tr>\n",
       "  </thead>\n",
       "  <tbody>\n",
       "    <tr>\n",
       "      <th>0</th>\n",
       "      <td>1980</td>\n",
       "      <td>Lake Diane</td>\n",
       "      <td>20.2</td>\n",
       "      <td>731.72066</td>\n",
       "      <td>N</td>\n",
       "      <td>N</td>\n",
       "      <td>Y</td>\n",
       "      <td>N</td>\n",
       "    </tr>\n",
       "    <tr>\n",
       "      <th>1</th>\n",
       "      <td>1980</td>\n",
       "      <td>Hillport</td>\n",
       "      <td>23.1</td>\n",
       "      <td>617.77118</td>\n",
       "      <td>N</td>\n",
       "      <td>N</td>\n",
       "      <td>Y</td>\n",
       "      <td>N</td>\n",
       "    </tr>\n",
       "    <tr>\n",
       "      <th>2</th>\n",
       "      <td>1980</td>\n",
       "      <td>Spencerborough</td>\n",
       "      <td>21.1</td>\n",
       "      <td>1170.91968</td>\n",
       "      <td>N</td>\n",
       "      <td>N</td>\n",
       "      <td>N</td>\n",
       "      <td>N</td>\n",
       "    </tr>\n",
       "    <tr>\n",
       "      <th>3</th>\n",
       "      <td>1981</td>\n",
       "      <td>Lake Diane</td>\n",
       "      <td>19.6</td>\n",
       "      <td>793.69158</td>\n",
       "      <td>No</td>\n",
       "      <td>N</td>\n",
       "      <td>Y</td>\n",
       "      <td>N</td>\n",
       "    </tr>\n",
       "    <tr>\n",
       "      <th>4</th>\n",
       "      <td>1981</td>\n",
       "      <td>Hillport</td>\n",
       "      <td>23.1</td>\n",
       "      <td>616.65104</td>\n",
       "      <td>N</td>\n",
       "      <td>N</td>\n",
       "      <td>Y</td>\n",
       "      <td>N</td>\n",
       "    </tr>\n",
       "  </tbody>\n",
       "</table>\n",
       "</div>"
      ],
      "text/plain": [
       "   Year        Location  Avg Min Temp *C  Yr Rain mm Heat Wave Dry Spell  \\\n",
       "0  1980      Lake Diane             20.2   731.72066         N         N   \n",
       "1  1980        Hillport             23.1   617.77118         N         N   \n",
       "2  1980  Spencerborough             21.1  1170.91968         N         N   \n",
       "3  1981      Lake Diane             19.6   793.69158        No         N   \n",
       "4  1981        Hillport             23.1   616.65104         N         N   \n",
       "\n",
       "  Cold Wave Wet Spell  \n",
       "0         Y         N  \n",
       "1         Y         N  \n",
       "2         N         N  \n",
       "3         Y         N  \n",
       "4         Y         N  "
      ]
     },
     "execution_count": 8,
     "metadata": {},
     "output_type": "execute_result"
    }
   ],
   "source": [
    "# read the data_clean.csv file\n",
    "df=pd.read_csv('combine.csv')\n",
    "df.head()"
   ]
  },
  {
   "cell_type": "code",
   "execution_count": 9,
   "id": "dd59210b",
   "metadata": {},
   "outputs": [
    {
     "name": "stdout",
     "output_type": "stream",
     "text": [
      "<class 'pandas.core.frame.DataFrame'>\n",
      "RangeIndex: 120 entries, 0 to 119\n",
      "Data columns (total 8 columns):\n",
      " #   Column           Non-Null Count  Dtype  \n",
      "---  ------           --------------  -----  \n",
      " 0   Year             120 non-null    int64  \n",
      " 1   Location         120 non-null    object \n",
      " 2   Avg Min Temp *C  120 non-null    float64\n",
      " 3   Yr Rain mm       120 non-null    float64\n",
      " 4   Heat Wave        120 non-null    object \n",
      " 5   Dry Spell        120 non-null    object \n",
      " 6   Cold Wave        120 non-null    object \n",
      " 7   Wet Spell        120 non-null    object \n",
      "dtypes: float64(2), int64(1), object(5)\n",
      "memory usage: 7.6+ KB\n"
     ]
    }
   ],
   "source": [
    "df.info()"
   ]
  },
  {
   "cell_type": "code",
   "execution_count": 10,
   "id": "34bf5165",
   "metadata": {},
   "outputs": [
    {
     "data": {
      "text/plain": [
       "Year               0\n",
       "Location           0\n",
       "Avg Min Temp *C    0\n",
       "Yr Rain mm         0\n",
       "Heat Wave          0\n",
       "Dry Spell          0\n",
       "Cold Wave          0\n",
       "Wet Spell          0\n",
       "dtype: int64"
      ]
     },
     "execution_count": 10,
     "metadata": {},
     "output_type": "execute_result"
    }
   ],
   "source": [
    "df.isnull().sum()"
   ]
  },
  {
   "cell_type": "code",
   "execution_count": 11,
   "id": "5dec9aa1",
   "metadata": {},
   "outputs": [
    {
     "data": {
      "text/plain": [
       "0"
      ]
     },
     "execution_count": 11,
     "metadata": {},
     "output_type": "execute_result"
    }
   ],
   "source": [
    "df.duplicated().sum()"
   ]
  },
  {
   "cell_type": "code",
   "execution_count": 12,
   "id": "addb9d50",
   "metadata": {},
   "outputs": [
    {
     "data": {
      "text/html": [
       "<div>\n",
       "<style scoped>\n",
       "    .dataframe tbody tr th:only-of-type {\n",
       "        vertical-align: middle;\n",
       "    }\n",
       "\n",
       "    .dataframe tbody tr th {\n",
       "        vertical-align: top;\n",
       "    }\n",
       "\n",
       "    .dataframe thead th {\n",
       "        text-align: right;\n",
       "    }\n",
       "</style>\n",
       "<table border=\"1\" class=\"dataframe\">\n",
       "  <thead>\n",
       "    <tr style=\"text-align: right;\">\n",
       "      <th></th>\n",
       "      <th>Year</th>\n",
       "      <th>Avg Min Temp *C</th>\n",
       "      <th>Yr Rain mm</th>\n",
       "    </tr>\n",
       "  </thead>\n",
       "  <tbody>\n",
       "    <tr>\n",
       "      <th>count</th>\n",
       "      <td>120.000000</td>\n",
       "      <td>120.000000</td>\n",
       "      <td>120.000000</td>\n",
       "    </tr>\n",
       "    <tr>\n",
       "      <th>mean</th>\n",
       "      <td>1999.500000</td>\n",
       "      <td>22.380000</td>\n",
       "      <td>1238.547022</td>\n",
       "    </tr>\n",
       "    <tr>\n",
       "      <th>std</th>\n",
       "      <td>11.591797</td>\n",
       "      <td>1.353092</td>\n",
       "      <td>370.990127</td>\n",
       "    </tr>\n",
       "    <tr>\n",
       "      <th>min</th>\n",
       "      <td>1980.000000</td>\n",
       "      <td>19.600000</td>\n",
       "      <td>594.469220</td>\n",
       "    </tr>\n",
       "    <tr>\n",
       "      <th>25%</th>\n",
       "      <td>1989.750000</td>\n",
       "      <td>21.300000</td>\n",
       "      <td>932.147615</td>\n",
       "    </tr>\n",
       "    <tr>\n",
       "      <th>50%</th>\n",
       "      <td>1999.500000</td>\n",
       "      <td>22.200000</td>\n",
       "      <td>1179.980000</td>\n",
       "    </tr>\n",
       "    <tr>\n",
       "      <th>75%</th>\n",
       "      <td>2009.250000</td>\n",
       "      <td>23.400000</td>\n",
       "      <td>1477.920000</td>\n",
       "    </tr>\n",
       "    <tr>\n",
       "      <th>max</th>\n",
       "      <td>2019.000000</td>\n",
       "      <td>25.300000</td>\n",
       "      <td>2155.300000</td>\n",
       "    </tr>\n",
       "  </tbody>\n",
       "</table>\n",
       "</div>"
      ],
      "text/plain": [
       "              Year  Avg Min Temp *C   Yr Rain mm\n",
       "count   120.000000       120.000000   120.000000\n",
       "mean   1999.500000        22.380000  1238.547022\n",
       "std      11.591797         1.353092   370.990127\n",
       "min    1980.000000        19.600000   594.469220\n",
       "25%    1989.750000        21.300000   932.147615\n",
       "50%    1999.500000        22.200000  1179.980000\n",
       "75%    2009.250000        23.400000  1477.920000\n",
       "max    2019.000000        25.300000  2155.300000"
      ]
     },
     "execution_count": 12,
     "metadata": {},
     "output_type": "execute_result"
    }
   ],
   "source": [
    "df.describe()"
   ]
  },
  {
   "cell_type": "code",
   "execution_count": 13,
   "id": "3c67a485",
   "metadata": {},
   "outputs": [
    {
     "data": {
      "text/html": [
       "<div>\n",
       "<style scoped>\n",
       "    .dataframe tbody tr th:only-of-type {\n",
       "        vertical-align: middle;\n",
       "    }\n",
       "\n",
       "    .dataframe tbody tr th {\n",
       "        vertical-align: top;\n",
       "    }\n",
       "\n",
       "    .dataframe thead th {\n",
       "        text-align: right;\n",
       "    }\n",
       "</style>\n",
       "<table border=\"1\" class=\"dataframe\">\n",
       "  <thead>\n",
       "    <tr style=\"text-align: right;\">\n",
       "      <th></th>\n",
       "      <th>Year</th>\n",
       "      <th>Location</th>\n",
       "      <th>Irrigation</th>\n",
       "      <th>Crop Type</th>\n",
       "      <th>Crop Damage</th>\n",
       "      <th>Yield</th>\n",
       "      <th>Observer</th>\n",
       "    </tr>\n",
       "  </thead>\n",
       "  <tbody>\n",
       "    <tr>\n",
       "      <th>0</th>\n",
       "      <td>1980.0</td>\n",
       "      <td>Lake Diane</td>\n",
       "      <td>Y</td>\n",
       "      <td>Barley</td>\n",
       "      <td>1.0</td>\n",
       "      <td>1618.37</td>\n",
       "      <td>Mark Henderson</td>\n",
       "    </tr>\n",
       "    <tr>\n",
       "      <th>1</th>\n",
       "      <td>1980.0</td>\n",
       "      <td>Hillport</td>\n",
       "      <td>Y</td>\n",
       "      <td>Barley</td>\n",
       "      <td>1.0</td>\n",
       "      <td>1728.69</td>\n",
       "      <td>Jacqueline Jones</td>\n",
       "    </tr>\n",
       "    <tr>\n",
       "      <th>2</th>\n",
       "      <td>1980.0</td>\n",
       "      <td>Spencerborough</td>\n",
       "      <td>N</td>\n",
       "      <td>Barley</td>\n",
       "      <td>0.0</td>\n",
       "      <td>1496.14</td>\n",
       "      <td>Rita Curry</td>\n",
       "    </tr>\n",
       "    <tr>\n",
       "      <th>3</th>\n",
       "      <td>1981.0</td>\n",
       "      <td>Lake Diane</td>\n",
       "      <td>Y</td>\n",
       "      <td>Oats</td>\n",
       "      <td>1.0</td>\n",
       "      <td>887.85</td>\n",
       "      <td>Karen Moreno</td>\n",
       "    </tr>\n",
       "    <tr>\n",
       "      <th>4</th>\n",
       "      <td>1981.0</td>\n",
       "      <td>Hillport</td>\n",
       "      <td>Y</td>\n",
       "      <td>Oats</td>\n",
       "      <td>1.0</td>\n",
       "      <td>1028.50</td>\n",
       "      <td>Katie Martinez</td>\n",
       "    </tr>\n",
       "  </tbody>\n",
       "</table>\n",
       "</div>"
      ],
      "text/plain": [
       "     Year        Location Irrigation Crop Type  Crop Damage    Yield  \\\n",
       "0  1980.0      Lake Diane          Y    Barley          1.0  1618.37   \n",
       "1  1980.0        Hillport          Y    Barley          1.0  1728.69   \n",
       "2  1980.0  Spencerborough          N    Barley          0.0  1496.14   \n",
       "3  1981.0      Lake Diane          Y      Oats          1.0   887.85   \n",
       "4  1981.0        Hillport          Y      Oats          1.0  1028.50   \n",
       "\n",
       "           Observer  \n",
       "0    Mark Henderson  \n",
       "1  Jacqueline Jones  \n",
       "2        Rita Curry  \n",
       "3      Karen Moreno  \n",
       "4    Katie Martinez  "
      ]
     },
     "execution_count": 13,
     "metadata": {},
     "output_type": "execute_result"
    }
   ],
   "source": [
    "df3 = pd.read_csv('data_3_crop.csv')\n",
    "df3.head()"
   ]
  },
  {
   "cell_type": "code",
   "execution_count": 14,
   "id": "edf9fdc2",
   "metadata": {},
   "outputs": [
    {
     "data": {
      "text/plain": [
       "0"
      ]
     },
     "execution_count": 14,
     "metadata": {},
     "output_type": "execute_result"
    }
   ],
   "source": [
    "df3.duplicated().sum()"
   ]
  },
  {
   "cell_type": "code",
   "execution_count": 15,
   "id": "16abd24e",
   "metadata": {},
   "outputs": [
    {
     "data": {
      "text/plain": [
       "Year           1\n",
       "Location       1\n",
       "Irrigation     1\n",
       "Crop Type      1\n",
       "Crop Damage    1\n",
       "Yield          1\n",
       "Observer       1\n",
       "dtype: int64"
      ]
     },
     "execution_count": 15,
     "metadata": {},
     "output_type": "execute_result"
    }
   ],
   "source": [
    "df3.isnull().sum()"
   ]
  },
  {
   "cell_type": "markdown",
   "id": "5671bf6c",
   "metadata": {},
   "source": [
    "###### Null values remove"
   ]
  },
  {
   "cell_type": "code",
   "execution_count": 16,
   "id": "d14b7869",
   "metadata": {},
   "outputs": [],
   "source": [
    "df3 = df3.dropna()"
   ]
  },
  {
   "cell_type": "code",
   "execution_count": 17,
   "id": "0c02e3e8",
   "metadata": {},
   "outputs": [
    {
     "data": {
      "text/html": [
       "<div>\n",
       "<style scoped>\n",
       "    .dataframe tbody tr th:only-of-type {\n",
       "        vertical-align: middle;\n",
       "    }\n",
       "\n",
       "    .dataframe tbody tr th {\n",
       "        vertical-align: top;\n",
       "    }\n",
       "\n",
       "    .dataframe thead th {\n",
       "        text-align: right;\n",
       "    }\n",
       "</style>\n",
       "<table border=\"1\" class=\"dataframe\">\n",
       "  <thead>\n",
       "    <tr style=\"text-align: right;\">\n",
       "      <th></th>\n",
       "      <th>Year</th>\n",
       "      <th>Crop Damage</th>\n",
       "      <th>Yield</th>\n",
       "    </tr>\n",
       "  </thead>\n",
       "  <tbody>\n",
       "    <tr>\n",
       "      <th>count</th>\n",
       "      <td>120.000000</td>\n",
       "      <td>120.000000</td>\n",
       "      <td>120.000000</td>\n",
       "    </tr>\n",
       "    <tr>\n",
       "      <th>mean</th>\n",
       "      <td>1999.500000</td>\n",
       "      <td>0.283333</td>\n",
       "      <td>1285.043583</td>\n",
       "    </tr>\n",
       "    <tr>\n",
       "      <th>std</th>\n",
       "      <td>11.591797</td>\n",
       "      <td>0.452506</td>\n",
       "      <td>295.511551</td>\n",
       "    </tr>\n",
       "    <tr>\n",
       "      <th>min</th>\n",
       "      <td>1980.000000</td>\n",
       "      <td>0.000000</td>\n",
       "      <td>774.210000</td>\n",
       "    </tr>\n",
       "    <tr>\n",
       "      <th>25%</th>\n",
       "      <td>1989.750000</td>\n",
       "      <td>0.000000</td>\n",
       "      <td>1043.670000</td>\n",
       "    </tr>\n",
       "    <tr>\n",
       "      <th>50%</th>\n",
       "      <td>1999.500000</td>\n",
       "      <td>0.000000</td>\n",
       "      <td>1353.945000</td>\n",
       "    </tr>\n",
       "    <tr>\n",
       "      <th>75%</th>\n",
       "      <td>2009.250000</td>\n",
       "      <td>1.000000</td>\n",
       "      <td>1480.900000</td>\n",
       "    </tr>\n",
       "    <tr>\n",
       "      <th>max</th>\n",
       "      <td>2019.000000</td>\n",
       "      <td>1.000000</td>\n",
       "      <td>1771.760000</td>\n",
       "    </tr>\n",
       "  </tbody>\n",
       "</table>\n",
       "</div>"
      ],
      "text/plain": [
       "              Year  Crop Damage        Yield\n",
       "count   120.000000   120.000000   120.000000\n",
       "mean   1999.500000     0.283333  1285.043583\n",
       "std      11.591797     0.452506   295.511551\n",
       "min    1980.000000     0.000000   774.210000\n",
       "25%    1989.750000     0.000000  1043.670000\n",
       "50%    1999.500000     0.000000  1353.945000\n",
       "75%    2009.250000     1.000000  1480.900000\n",
       "max    2019.000000     1.000000  1771.760000"
      ]
     },
     "execution_count": 17,
     "metadata": {},
     "output_type": "execute_result"
    }
   ],
   "source": [
    "df3.describe()"
   ]
  },
  {
   "cell_type": "markdown",
   "id": "e4c3882f",
   "metadata": {},
   "source": [
    "###### Drop Year and Location in data_3_crop.csv"
   ]
  },
  {
   "cell_type": "code",
   "execution_count": 18,
   "id": "d0b9c996",
   "metadata": {},
   "outputs": [
    {
     "data": {
      "text/html": [
       "<div>\n",
       "<style scoped>\n",
       "    .dataframe tbody tr th:only-of-type {\n",
       "        vertical-align: middle;\n",
       "    }\n",
       "\n",
       "    .dataframe tbody tr th {\n",
       "        vertical-align: top;\n",
       "    }\n",
       "\n",
       "    .dataframe thead th {\n",
       "        text-align: right;\n",
       "    }\n",
       "</style>\n",
       "<table border=\"1\" class=\"dataframe\">\n",
       "  <thead>\n",
       "    <tr style=\"text-align: right;\">\n",
       "      <th></th>\n",
       "      <th>Irrigation</th>\n",
       "      <th>Crop Type</th>\n",
       "      <th>Crop Damage</th>\n",
       "      <th>Yield</th>\n",
       "      <th>Observer</th>\n",
       "    </tr>\n",
       "  </thead>\n",
       "  <tbody>\n",
       "    <tr>\n",
       "      <th>0</th>\n",
       "      <td>Y</td>\n",
       "      <td>Barley</td>\n",
       "      <td>1.0</td>\n",
       "      <td>1618.37</td>\n",
       "      <td>Mark Henderson</td>\n",
       "    </tr>\n",
       "    <tr>\n",
       "      <th>1</th>\n",
       "      <td>Y</td>\n",
       "      <td>Barley</td>\n",
       "      <td>1.0</td>\n",
       "      <td>1728.69</td>\n",
       "      <td>Jacqueline Jones</td>\n",
       "    </tr>\n",
       "    <tr>\n",
       "      <th>2</th>\n",
       "      <td>N</td>\n",
       "      <td>Barley</td>\n",
       "      <td>0.0</td>\n",
       "      <td>1496.14</td>\n",
       "      <td>Rita Curry</td>\n",
       "    </tr>\n",
       "    <tr>\n",
       "      <th>3</th>\n",
       "      <td>Y</td>\n",
       "      <td>Oats</td>\n",
       "      <td>1.0</td>\n",
       "      <td>887.85</td>\n",
       "      <td>Karen Moreno</td>\n",
       "    </tr>\n",
       "    <tr>\n",
       "      <th>4</th>\n",
       "      <td>Y</td>\n",
       "      <td>Oats</td>\n",
       "      <td>1.0</td>\n",
       "      <td>1028.50</td>\n",
       "      <td>Katie Martinez</td>\n",
       "    </tr>\n",
       "  </tbody>\n",
       "</table>\n",
       "</div>"
      ],
      "text/plain": [
       "  Irrigation Crop Type  Crop Damage    Yield          Observer\n",
       "0          Y    Barley          1.0  1618.37    Mark Henderson\n",
       "1          Y    Barley          1.0  1728.69  Jacqueline Jones\n",
       "2          N    Barley          0.0  1496.14        Rita Curry\n",
       "3          Y      Oats          1.0   887.85      Karen Moreno\n",
       "4          Y      Oats          1.0  1028.50    Katie Martinez"
      ]
     },
     "execution_count": 18,
     "metadata": {},
     "output_type": "execute_result"
    }
   ],
   "source": [
    "df3=df3.drop(['Year', 'Location'], axis=1)\n",
    "df3.head()"
   ]
  },
  {
   "cell_type": "markdown",
   "id": "6c52beae",
   "metadata": {},
   "source": [
    "###### replays Y and N"
   ]
  },
  {
   "cell_type": "code",
   "execution_count": 19,
   "id": "d2f62e5f",
   "metadata": {},
   "outputs": [
    {
     "data": {
      "text/plain": [
       "array(['N', 'No', '0', 'Y', 'n', '1', 'no'], dtype=object)"
      ]
     },
     "execution_count": 19,
     "metadata": {},
     "output_type": "execute_result"
    }
   ],
   "source": [
    "df['Heat Wave'].unique()"
   ]
  },
  {
   "cell_type": "code",
   "execution_count": 20,
   "id": "c6348226",
   "metadata": {},
   "outputs": [],
   "source": [
    "df['Heat Wave'] = df['Heat Wave'].replace('Yes','Y')\n",
    "df['Heat Wave'] = df['Heat Wave'].replace('No','N')\n",
    "df['Heat Wave'] = df['Heat Wave'].replace('1','Y')\n",
    "df['Heat Wave'] = df['Heat Wave'].replace('0','N')\n",
    "df['Heat Wave'] = df['Heat Wave'].replace('n','N')\n",
    "df['Heat Wave'] = df['Heat Wave'].replace('no','N')"
   ]
  },
  {
   "cell_type": "code",
   "execution_count": 21,
   "id": "8cf90415",
   "metadata": {},
   "outputs": [
    {
     "data": {
      "text/plain": [
       "array(['N', 'no', 'n', 'No', 'Y', '0'], dtype=object)"
      ]
     },
     "execution_count": 21,
     "metadata": {},
     "output_type": "execute_result"
    }
   ],
   "source": [
    "df['Dry Spell'].unique()"
   ]
  },
  {
   "cell_type": "code",
   "execution_count": 22,
   "id": "b2b61e38",
   "metadata": {},
   "outputs": [],
   "source": [
    "df['Dry Spell'] = df['Dry Spell'].replace('Yes','Y')\n",
    "df['Dry Spell'] = df['Dry Spell'].replace('No','N')\n",
    "df['Dry Spell'] = df['Dry Spell'].replace('1','Y')\n",
    "df['Dry Spell'] = df['Dry Spell'].replace('0','N')\n",
    "df['Dry Spell'] = df['Dry Spell'].replace('no','N')\n",
    "df['Dry Spell'] = df['Dry Spell'].replace('n','N')"
   ]
  },
  {
   "cell_type": "code",
   "execution_count": 23,
   "id": "5d1b280b",
   "metadata": {},
   "outputs": [
    {
     "data": {
      "text/plain": [
       "array(['Y', 'N', '0'], dtype=object)"
      ]
     },
     "execution_count": 23,
     "metadata": {},
     "output_type": "execute_result"
    }
   ],
   "source": [
    "df['Cold Wave'].unique()"
   ]
  },
  {
   "cell_type": "code",
   "execution_count": 24,
   "id": "9763887f",
   "metadata": {},
   "outputs": [],
   "source": [
    "df['Cold Wave'] = df['Cold Wave'].replace('Yes','Y')\n",
    "df['Cold Wave'] = df['Cold Wave'].replace('No','N')\n",
    "df['Cold Wave'] = df['Cold Wave'].replace('0','N')"
   ]
  },
  {
   "cell_type": "code",
   "execution_count": 25,
   "id": "cdf21258",
   "metadata": {},
   "outputs": [
    {
     "data": {
      "text/plain": [
       "array(['N', 'no', 'Y', 'y'], dtype=object)"
      ]
     },
     "execution_count": 25,
     "metadata": {},
     "output_type": "execute_result"
    }
   ],
   "source": [
    "df['Wet Spell'].unique()"
   ]
  },
  {
   "cell_type": "code",
   "execution_count": 26,
   "id": "ea737c90",
   "metadata": {},
   "outputs": [],
   "source": [
    "df['Wet Spell'] = df['Wet Spell'].replace('y','Y')\n",
    "df['Wet Spell'] = df['Wet Spell'].replace('No','N')\n",
    "df['Wet Spell'] = df['Wet Spell'].replace('no','N')"
   ]
  },
  {
   "cell_type": "code",
   "execution_count": 27,
   "id": "c1b9aa5b",
   "metadata": {},
   "outputs": [
    {
     "data": {
      "text/plain": [
       "array(['Y', 'N', 'No', 'yes'], dtype=object)"
      ]
     },
     "execution_count": 27,
     "metadata": {},
     "output_type": "execute_result"
    }
   ],
   "source": [
    "df3['Irrigation'].unique()"
   ]
  },
  {
   "cell_type": "code",
   "execution_count": 28,
   "id": "f38176ee",
   "metadata": {},
   "outputs": [],
   "source": [
    "df3['Irrigation'] = df3['Irrigation'].replace('Yes','Y')\n",
    "df3['Irrigation'] = df3['Irrigation'].replace('No','N')\n",
    "df3['Irrigation'] = df3['Irrigation'].replace('yes','Y')"
   ]
  },
  {
   "cell_type": "code",
   "execution_count": 29,
   "id": "0b468488",
   "metadata": {},
   "outputs": [
    {
     "data": {
      "text/plain": [
       "array([1., 0.])"
      ]
     },
     "execution_count": 29,
     "metadata": {},
     "output_type": "execute_result"
    }
   ],
   "source": [
    "df3['Crop Damage'].unique()"
   ]
  },
  {
   "cell_type": "code",
   "execution_count": 30,
   "id": "b3be39e4",
   "metadata": {},
   "outputs": [],
   "source": [
    "df3['Crop Damage'] = df3['Crop Damage'].replace(1.0,'Y')\n",
    "df3['Crop Damage'] = df3['Crop Damage'].replace(0.0,'N')"
   ]
  },
  {
   "cell_type": "code",
   "execution_count": 31,
   "id": "e6719507",
   "metadata": {},
   "outputs": [
    {
     "data": {
      "text/html": [
       "<div>\n",
       "<style scoped>\n",
       "    .dataframe tbody tr th:only-of-type {\n",
       "        vertical-align: middle;\n",
       "    }\n",
       "\n",
       "    .dataframe tbody tr th {\n",
       "        vertical-align: top;\n",
       "    }\n",
       "\n",
       "    .dataframe thead th {\n",
       "        text-align: right;\n",
       "    }\n",
       "</style>\n",
       "<table border=\"1\" class=\"dataframe\">\n",
       "  <thead>\n",
       "    <tr style=\"text-align: right;\">\n",
       "      <th></th>\n",
       "      <th>Year</th>\n",
       "      <th>Location</th>\n",
       "      <th>Avg Min Temp *C</th>\n",
       "      <th>Yr Rain mm</th>\n",
       "      <th>Heat Wave</th>\n",
       "      <th>Dry Spell</th>\n",
       "      <th>Cold Wave</th>\n",
       "      <th>Wet Spell</th>\n",
       "    </tr>\n",
       "  </thead>\n",
       "  <tbody>\n",
       "    <tr>\n",
       "      <th>0</th>\n",
       "      <td>1980</td>\n",
       "      <td>Lake Diane</td>\n",
       "      <td>20.2</td>\n",
       "      <td>731.72066</td>\n",
       "      <td>N</td>\n",
       "      <td>N</td>\n",
       "      <td>Y</td>\n",
       "      <td>N</td>\n",
       "    </tr>\n",
       "    <tr>\n",
       "      <th>1</th>\n",
       "      <td>1980</td>\n",
       "      <td>Hillport</td>\n",
       "      <td>23.1</td>\n",
       "      <td>617.77118</td>\n",
       "      <td>N</td>\n",
       "      <td>N</td>\n",
       "      <td>Y</td>\n",
       "      <td>N</td>\n",
       "    </tr>\n",
       "    <tr>\n",
       "      <th>2</th>\n",
       "      <td>1980</td>\n",
       "      <td>Spencerborough</td>\n",
       "      <td>21.1</td>\n",
       "      <td>1170.91968</td>\n",
       "      <td>N</td>\n",
       "      <td>N</td>\n",
       "      <td>N</td>\n",
       "      <td>N</td>\n",
       "    </tr>\n",
       "    <tr>\n",
       "      <th>3</th>\n",
       "      <td>1981</td>\n",
       "      <td>Lake Diane</td>\n",
       "      <td>19.6</td>\n",
       "      <td>793.69158</td>\n",
       "      <td>N</td>\n",
       "      <td>N</td>\n",
       "      <td>Y</td>\n",
       "      <td>N</td>\n",
       "    </tr>\n",
       "    <tr>\n",
       "      <th>4</th>\n",
       "      <td>1981</td>\n",
       "      <td>Hillport</td>\n",
       "      <td>23.1</td>\n",
       "      <td>616.65104</td>\n",
       "      <td>N</td>\n",
       "      <td>N</td>\n",
       "      <td>Y</td>\n",
       "      <td>N</td>\n",
       "    </tr>\n",
       "  </tbody>\n",
       "</table>\n",
       "</div>"
      ],
      "text/plain": [
       "   Year        Location  Avg Min Temp *C  Yr Rain mm Heat Wave Dry Spell  \\\n",
       "0  1980      Lake Diane             20.2   731.72066         N         N   \n",
       "1  1980        Hillport             23.1   617.77118         N         N   \n",
       "2  1980  Spencerborough             21.1  1170.91968         N         N   \n",
       "3  1981      Lake Diane             19.6   793.69158         N         N   \n",
       "4  1981        Hillport             23.1   616.65104         N         N   \n",
       "\n",
       "  Cold Wave Wet Spell  \n",
       "0         Y         N  \n",
       "1         Y         N  \n",
       "2         N         N  \n",
       "3         Y         N  \n",
       "4         Y         N  "
      ]
     },
     "execution_count": 31,
     "metadata": {},
     "output_type": "execute_result"
    }
   ],
   "source": [
    "df.head()"
   ]
  },
  {
   "cell_type": "code",
   "execution_count": 32,
   "id": "cfb4e6b5",
   "metadata": {},
   "outputs": [
    {
     "data": {
      "text/html": [
       "<div>\n",
       "<style scoped>\n",
       "    .dataframe tbody tr th:only-of-type {\n",
       "        vertical-align: middle;\n",
       "    }\n",
       "\n",
       "    .dataframe tbody tr th {\n",
       "        vertical-align: top;\n",
       "    }\n",
       "\n",
       "    .dataframe thead th {\n",
       "        text-align: right;\n",
       "    }\n",
       "</style>\n",
       "<table border=\"1\" class=\"dataframe\">\n",
       "  <thead>\n",
       "    <tr style=\"text-align: right;\">\n",
       "      <th></th>\n",
       "      <th>Irrigation</th>\n",
       "      <th>Crop Type</th>\n",
       "      <th>Crop Damage</th>\n",
       "      <th>Yield</th>\n",
       "      <th>Observer</th>\n",
       "    </tr>\n",
       "  </thead>\n",
       "  <tbody>\n",
       "    <tr>\n",
       "      <th>0</th>\n",
       "      <td>Y</td>\n",
       "      <td>Barley</td>\n",
       "      <td>Y</td>\n",
       "      <td>1618.37</td>\n",
       "      <td>Mark Henderson</td>\n",
       "    </tr>\n",
       "    <tr>\n",
       "      <th>1</th>\n",
       "      <td>Y</td>\n",
       "      <td>Barley</td>\n",
       "      <td>Y</td>\n",
       "      <td>1728.69</td>\n",
       "      <td>Jacqueline Jones</td>\n",
       "    </tr>\n",
       "    <tr>\n",
       "      <th>2</th>\n",
       "      <td>N</td>\n",
       "      <td>Barley</td>\n",
       "      <td>N</td>\n",
       "      <td>1496.14</td>\n",
       "      <td>Rita Curry</td>\n",
       "    </tr>\n",
       "    <tr>\n",
       "      <th>3</th>\n",
       "      <td>Y</td>\n",
       "      <td>Oats</td>\n",
       "      <td>Y</td>\n",
       "      <td>887.85</td>\n",
       "      <td>Karen Moreno</td>\n",
       "    </tr>\n",
       "    <tr>\n",
       "      <th>4</th>\n",
       "      <td>Y</td>\n",
       "      <td>Oats</td>\n",
       "      <td>Y</td>\n",
       "      <td>1028.50</td>\n",
       "      <td>Katie Martinez</td>\n",
       "    </tr>\n",
       "  </tbody>\n",
       "</table>\n",
       "</div>"
      ],
      "text/plain": [
       "  Irrigation Crop Type Crop Damage    Yield          Observer\n",
       "0          Y    Barley           Y  1618.37    Mark Henderson\n",
       "1          Y    Barley           Y  1728.69  Jacqueline Jones\n",
       "2          N    Barley           N  1496.14        Rita Curry\n",
       "3          Y      Oats           Y   887.85      Karen Moreno\n",
       "4          Y      Oats           Y  1028.50    Katie Martinez"
      ]
     },
     "execution_count": 32,
     "metadata": {},
     "output_type": "execute_result"
    }
   ],
   "source": [
    "df3.head()"
   ]
  },
  {
   "cell_type": "markdown",
   "id": "3fd1d7a6",
   "metadata": {},
   "source": [
    "###### Create and save data_clean.csv"
   ]
  },
  {
   "cell_type": "code",
   "execution_count": 33,
   "id": "0d894370",
   "metadata": {},
   "outputs": [
    {
     "data": {
      "text/html": [
       "<div>\n",
       "<style scoped>\n",
       "    .dataframe tbody tr th:only-of-type {\n",
       "        vertical-align: middle;\n",
       "    }\n",
       "\n",
       "    .dataframe tbody tr th {\n",
       "        vertical-align: top;\n",
       "    }\n",
       "\n",
       "    .dataframe thead th {\n",
       "        text-align: right;\n",
       "    }\n",
       "</style>\n",
       "<table border=\"1\" class=\"dataframe\">\n",
       "  <thead>\n",
       "    <tr style=\"text-align: right;\">\n",
       "      <th></th>\n",
       "      <th>Year</th>\n",
       "      <th>Location</th>\n",
       "      <th>Avg Min Temp *C</th>\n",
       "      <th>Yr Rain mm</th>\n",
       "      <th>Heat Wave</th>\n",
       "      <th>Dry Spell</th>\n",
       "      <th>Cold Wave</th>\n",
       "      <th>Wet Spell</th>\n",
       "      <th>Irrigation</th>\n",
       "      <th>Crop Type</th>\n",
       "      <th>Crop Damage</th>\n",
       "      <th>Yield</th>\n",
       "      <th>Observer</th>\n",
       "    </tr>\n",
       "  </thead>\n",
       "  <tbody>\n",
       "    <tr>\n",
       "      <th>0</th>\n",
       "      <td>1980</td>\n",
       "      <td>Lake Diane</td>\n",
       "      <td>20.2</td>\n",
       "      <td>731.72066</td>\n",
       "      <td>N</td>\n",
       "      <td>N</td>\n",
       "      <td>Y</td>\n",
       "      <td>N</td>\n",
       "      <td>Y</td>\n",
       "      <td>Barley</td>\n",
       "      <td>Y</td>\n",
       "      <td>1618.37</td>\n",
       "      <td>Mark Henderson</td>\n",
       "    </tr>\n",
       "    <tr>\n",
       "      <th>1</th>\n",
       "      <td>1980</td>\n",
       "      <td>Hillport</td>\n",
       "      <td>23.1</td>\n",
       "      <td>617.77118</td>\n",
       "      <td>N</td>\n",
       "      <td>N</td>\n",
       "      <td>Y</td>\n",
       "      <td>N</td>\n",
       "      <td>Y</td>\n",
       "      <td>Barley</td>\n",
       "      <td>Y</td>\n",
       "      <td>1728.69</td>\n",
       "      <td>Jacqueline Jones</td>\n",
       "    </tr>\n",
       "    <tr>\n",
       "      <th>2</th>\n",
       "      <td>1980</td>\n",
       "      <td>Spencerborough</td>\n",
       "      <td>21.1</td>\n",
       "      <td>1170.91968</td>\n",
       "      <td>N</td>\n",
       "      <td>N</td>\n",
       "      <td>N</td>\n",
       "      <td>N</td>\n",
       "      <td>N</td>\n",
       "      <td>Barley</td>\n",
       "      <td>N</td>\n",
       "      <td>1496.14</td>\n",
       "      <td>Rita Curry</td>\n",
       "    </tr>\n",
       "    <tr>\n",
       "      <th>3</th>\n",
       "      <td>1981</td>\n",
       "      <td>Lake Diane</td>\n",
       "      <td>19.6</td>\n",
       "      <td>793.69158</td>\n",
       "      <td>N</td>\n",
       "      <td>N</td>\n",
       "      <td>Y</td>\n",
       "      <td>N</td>\n",
       "      <td>Y</td>\n",
       "      <td>Oats</td>\n",
       "      <td>Y</td>\n",
       "      <td>887.85</td>\n",
       "      <td>Karen Moreno</td>\n",
       "    </tr>\n",
       "    <tr>\n",
       "      <th>4</th>\n",
       "      <td>1981</td>\n",
       "      <td>Hillport</td>\n",
       "      <td>23.1</td>\n",
       "      <td>616.65104</td>\n",
       "      <td>N</td>\n",
       "      <td>N</td>\n",
       "      <td>Y</td>\n",
       "      <td>N</td>\n",
       "      <td>Y</td>\n",
       "      <td>Oats</td>\n",
       "      <td>Y</td>\n",
       "      <td>1028.50</td>\n",
       "      <td>Katie Martinez</td>\n",
       "    </tr>\n",
       "  </tbody>\n",
       "</table>\n",
       "</div>"
      ],
      "text/plain": [
       "   Year        Location  Avg Min Temp *C  Yr Rain mm Heat Wave Dry Spell  \\\n",
       "0  1980      Lake Diane             20.2   731.72066         N         N   \n",
       "1  1980        Hillport             23.1   617.77118         N         N   \n",
       "2  1980  Spencerborough             21.1  1170.91968         N         N   \n",
       "3  1981      Lake Diane             19.6   793.69158         N         N   \n",
       "4  1981        Hillport             23.1   616.65104         N         N   \n",
       "\n",
       "  Cold Wave Wet Spell Irrigation Crop Type Crop Damage    Yield  \\\n",
       "0         Y         N          Y    Barley           Y  1618.37   \n",
       "1         Y         N          Y    Barley           Y  1728.69   \n",
       "2         N         N          N    Barley           N  1496.14   \n",
       "3         Y         N          Y      Oats           Y   887.85   \n",
       "4         Y         N          Y      Oats           Y  1028.50   \n",
       "\n",
       "           Observer  \n",
       "0    Mark Henderson  \n",
       "1  Jacqueline Jones  \n",
       "2        Rita Curry  \n",
       "3      Karen Moreno  \n",
       "4    Katie Martinez  "
      ]
     },
     "execution_count": 33,
     "metadata": {},
     "output_type": "execute_result"
    }
   ],
   "source": [
    "result = pd.concat([df, df3], axis=1, join='inner')\n",
    "result.head()"
   ]
  },
  {
   "cell_type": "code",
   "execution_count": 34,
   "id": "8a0a9b13",
   "metadata": {},
   "outputs": [],
   "source": [
    "result.to_csv('data_clean.csv',index=False)"
   ]
  },
  {
   "cell_type": "markdown",
   "id": "f32d1e5c",
   "metadata": {},
   "source": [
    "### Summary of task_1\n",
    "- __data_1_env.csv__\n",
    "      There are 45 records, here temperature is *F, and the year rain in inches. Those need to convert.\n",
    "- __data_2_env.csv__\n",
    "      There are 75 records.\n"
   ]
  },
  {
   "cell_type": "code",
   "execution_count": null,
   "id": "d3cb7466",
   "metadata": {},
   "outputs": [],
   "source": []
  }
 ],
 "metadata": {
  "kernelspec": {
   "display_name": "Python 3 (ipykernel)",
   "language": "python",
   "name": "python3"
  },
  "language_info": {
   "codemirror_mode": {
    "name": "ipython",
    "version": 3
   },
   "file_extension": ".py",
   "mimetype": "text/x-python",
   "name": "python",
   "nbconvert_exporter": "python",
   "pygments_lexer": "ipython3",
   "version": "3.9.12"
  },
  "varInspector": {
   "cols": {
    "lenName": 16,
    "lenType": 16,
    "lenVar": 40
   },
   "kernels_config": {
    "python": {
     "delete_cmd_postfix": "",
     "delete_cmd_prefix": "del ",
     "library": "var_list.py",
     "varRefreshCmd": "print(var_dic_list())"
    },
    "r": {
     "delete_cmd_postfix": ") ",
     "delete_cmd_prefix": "rm(",
     "library": "var_list.r",
     "varRefreshCmd": "cat(var_dic_list()) "
    }
   },
   "types_to_exclude": [
    "module",
    "function",
    "builtin_function_or_method",
    "instance",
    "_Feature"
   ],
   "window_display": false
  }
 },
 "nbformat": 4,
 "nbformat_minor": 5
}
